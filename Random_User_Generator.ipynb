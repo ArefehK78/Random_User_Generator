{
  "nbformat": 4,
  "nbformat_minor": 0,
  "metadata": {
    "colab": {
      "provenance": [],
      "authorship_tag": "ABX9TyPHy2E2cDMxCV6O9zFVYHcp",
      "include_colab_link": true
    },
    "kernelspec": {
      "name": "python3",
      "display_name": "Python 3"
    },
    "language_info": {
      "name": "python"
    }
  },
  "cells": [
    {
      "cell_type": "markdown",
      "metadata": {
        "id": "view-in-github",
        "colab_type": "text"
      },
      "source": [
        "<a href=\"https://colab.research.google.com/github/ArefehK78/Random_User_Generator/blob/main/Random_User_Generator.ipynb\" target=\"_parent\"><img src=\"https://colab.research.google.com/assets/colab-badge.svg\" alt=\"Open In Colab\"/></a>"
      ]
    },
    {
      "cell_type": "code",
      "execution_count": 1,
      "metadata": {
        "colab": {
          "base_uri": "https://localhost:8080/"
        },
        "id": "EMsx9T1jyvhZ",
        "outputId": "395f88c9-1a6e-437c-d26f-4644ff9cd7b4"
      },
      "outputs": [
        {
          "output_type": "stream",
          "name": "stdout",
          "text": [
            "Looking in indexes: https://pypi.org/simple, https://us-python.pkg.dev/colab-wheels/public/simple/\n",
            "Collecting randomuser\n",
            "  Downloading randomuser-1.6.tar.gz (5.0 kB)\n",
            "  Preparing metadata (setup.py) ... \u001b[?25l\u001b[?25hdone\n",
            "Building wheels for collected packages: randomuser\n",
            "  Building wheel for randomuser (setup.py) ... \u001b[?25l\u001b[?25hdone\n",
            "  Created wheel for randomuser: filename=randomuser-1.6-py3-none-any.whl size=5083 sha256=ceb13f6eba24d1f6b8726b2111e143b35d004a26ea951f704033a98c2584844d\n",
            "  Stored in directory: /root/.cache/pip/wheels/41/6f/23/878c103a235dc2d4e85a3965c124aae8a28470c541b81aa2ba\n",
            "Successfully built randomuser\n",
            "Installing collected packages: randomuser\n",
            "Successfully installed randomuser-1.6\n"
          ]
        }
      ],
      "source": [
        "!pip install randomuser"
      ]
    },
    {
      "cell_type": "code",
      "source": [
        "from randomuser import RandomUser\n",
        "import pandas as pd"
      ],
      "metadata": {
        "id": "3dAXeCLhzJIG"
      },
      "execution_count": 26,
      "outputs": []
    },
    {
      "cell_type": "code",
      "source": [
        "r = RandomUser()"
      ],
      "metadata": {
        "id": "HkBa1UUHzPeE"
      },
      "execution_count": 3,
      "outputs": []
    },
    {
      "cell_type": "code",
      "source": [
        "some_list = r.generate_users(10)\n",
        "some_list"
      ],
      "metadata": {
        "colab": {
          "base_uri": "https://localhost:8080/"
        },
        "id": "hNZz6U6SzUV1",
        "outputId": "c5464f09-3f6f-469e-e994-f0bd1f95f6b9"
      },
      "execution_count": 5,
      "outputs": [
        {
          "output_type": "execute_result",
          "data": {
            "text/plain": [
              "[<randomuser.RandomUser at 0x7fb7ab417f40>,\n",
              " <randomuser.RandomUser at 0x7fb7ab417730>,\n",
              " <randomuser.RandomUser at 0x7fb7ab4172e0>,\n",
              " <randomuser.RandomUser at 0x7fb7ab417850>,\n",
              " <randomuser.RandomUser at 0x7fb7ab4173d0>,\n",
              " <randomuser.RandomUser at 0x7fb7ab417b50>,\n",
              " <randomuser.RandomUser at 0x7fb7ab417d30>,\n",
              " <randomuser.RandomUser at 0x7fb7ab417760>,\n",
              " <randomuser.RandomUser at 0x7fb7ab417ca0>,\n",
              " <randomuser.RandomUser at 0x7fb7ab42ce80>]"
            ]
          },
          "metadata": {},
          "execution_count": 5
        }
      ]
    },
    {
      "cell_type": "markdown",
      "source": [
        "## **Get Methods**\n",
        "\n",
        "- get_cell()\n",
        "- get_city()\n",
        "- get_dob()\n",
        "- get_email()\n",
        "- get_first_name()\n",
        "- get_full_name()\n",
        "- get_gender()\n",
        "- get_id()\n",
        "- get_id_number()\n",
        "- get_id_type()\n",
        "- get_info()\n",
        "- get_last_name()\n",
        "- get_login_md5()\n",
        "- get_login_salt()\n",
        "- get_login_sha1()\n",
        "- get_login_sha256()\n",
        "- get_nat()\n",
        "- get_password()\n",
        "- get_phone()\n",
        "- get_picture()\n",
        "- get_postcode()\n",
        "- get_registered()\n",
        "- get_state()\n",
        "- get_street()\n",
        "- get_username()\n",
        "- get_zipcode()"
      ],
      "metadata": {
        "id": "yw2JEr260lGb"
      }
    },
    {
      "cell_type": "code",
      "source": [
        "#The \"Get Methods\" functions can generate the required parameters to construct a dataset.\n",
        "#For example, to get full name, we call get_full_name() function.\n",
        "name = r.get_full_name()"
      ],
      "metadata": {
        "id": "KVlOdC5WzjRE"
      },
      "execution_count": 8,
      "outputs": []
    },
    {
      "cell_type": "code",
      "source": [
        "#we only need 10 users with full names and their email addresses\n",
        "for user in some_list:\n",
        "  print(user.get_full_name() ,\" \" , user.get_email())\n"
      ],
      "metadata": {
        "colab": {
          "base_uri": "https://localhost:8080/"
        },
        "id": "HUEYsVb00Bg8",
        "outputId": "d3949729-3ea5-480a-8439-285253c009e7"
      },
      "execution_count": 9,
      "outputs": [
        {
          "output_type": "stream",
          "name": "stdout",
          "text": [
            "Neurani Rodrigues   neurani.rodrigues@example.com\n",
            "Luukas Tervo   luukas.tervo@example.com\n",
            "Sienna Li   sienna.li@example.com\n",
            "Emmeli Grav   emmeli.grav@example.com\n",
            "Sofia Harju   sofia.harju@example.com\n",
            "Lucia Velasco   lucia.velasco@example.com\n",
            "Leslie Mensen   leslie.mensen@example.com\n",
            "Yasemin Gürmen   yasemin.gurmen@example.com\n",
            "Mike Macrae   mike.macrae@example.com\n",
            "Luukas Niva   luukas.niva@example.com\n"
          ]
        }
      ]
    },
    {
      "cell_type": "code",
      "source": [
        "#generate photos of the random 10 users:\n",
        "for user in some_list:\n",
        "  print(user.get_picture())"
      ],
      "metadata": {
        "colab": {
          "base_uri": "https://localhost:8080/"
        },
        "id": "LTpBAj-40Bdr",
        "outputId": "a3f12afd-2110-427f-a42c-262ce795b47d"
      },
      "execution_count": 12,
      "outputs": [
        {
          "output_type": "stream",
          "name": "stdout",
          "text": [
            "https://randomuser.me/api/portraits/women/12.jpg\n",
            "https://randomuser.me/api/portraits/men/76.jpg\n",
            "https://randomuser.me/api/portraits/women/89.jpg\n",
            "https://randomuser.me/api/portraits/women/47.jpg\n",
            "https://randomuser.me/api/portraits/women/49.jpg\n",
            "https://randomuser.me/api/portraits/women/40.jpg\n",
            "https://randomuser.me/api/portraits/women/67.jpg\n",
            "https://randomuser.me/api/portraits/women/77.jpg\n",
            "https://randomuser.me/api/portraits/men/21.jpg\n",
            "https://randomuser.me/api/portraits/men/34.jpg\n"
          ]
        }
      ]
    },
    {
      "cell_type": "code",
      "source": [
        "#To generate a table with information about the users, \n",
        "#we can write a function containing all desirable parameters. \n",
        "#For example, name, gender, city, etc. \n",
        "\n",
        "def get_users():\n",
        "    users =[]\n",
        "     \n",
        "    for user in RandomUser.generate_users(10):\n",
        "        users.append({\"Name\":user.get_full_name(),\"Gender\":user.get_gender(),\"City\":user.get_city(),\"State\":user.get_state(),\"Email\":user.get_email(), \"DOB\":user.get_dob(),\"Picture\":user.get_picture()})\n",
        "      \n",
        "    return pd.DataFrame(users)     \n"
      ],
      "metadata": {
        "id": "QyHoH8d-zyB9"
      },
      "execution_count": 31,
      "outputs": []
    },
    {
      "cell_type": "code",
      "source": [
        "get_users()"
      ],
      "metadata": {
        "colab": {
          "base_uri": "https://localhost:8080/",
          "height": 407
        },
        "id": "jPgmHQXk2xh2",
        "outputId": "39936203-8a4f-4059-b62b-93074556b9c4"
      },
      "execution_count": 32,
      "outputs": [
        {
          "output_type": "execute_result",
          "data": {
            "text/plain": [
              "                Name  Gender            City                   State  \\\n",
              "0    Tatiana Guillot  female          Zeihen              Graubünden   \n",
              "1      Alan Gonzalez    male        Boussens  Appenzell Ausserrhoden   \n",
              "2     Agathe Riviere  female  Fort-de-France                   Drôme   \n",
              "3       Harper Hayes  female         Geelong         New South Wales   \n",
              "4    Brianna Steward  female    Independence          South Carolina   \n",
              "5      اميرعلي پارسا    male            مشهد                  گلستان   \n",
              "6  Sebastian Thomsen    male       Snertinge             Midtjylland   \n",
              "7      Jose Steeves     male          Scurry               Minnesota   \n",
              "8         Paige Hall  female       Whanganui                Taranaki   \n",
              "9    Berra Bredewold  female     Barendrecht                 Limburg   \n",
              "\n",
              "                           Email                       DOB  \\\n",
              "0    tatiana.guillot@example.com  1958-12-09T10:27:13.732Z   \n",
              "1      alan.gonzalez@example.com  1958-07-14T15:17:07.272Z   \n",
              "2     agathe.riviere@example.com  1969-11-14T05:10:26.733Z   \n",
              "3       harper.hayes@example.com  1945-11-01T15:15:37.927Z   \n",
              "4    brianna.steward@example.com  1950-12-22T21:29:14.380Z   \n",
              "5        myraaly.prs@example.com  1996-09-14T09:02:20.552Z   \n",
              "6  sebastian.thomsen@example.com  1982-05-23T01:50:24.821Z   \n",
              "7       jose.steeves@example.com  1950-11-28T07:40:19.241Z   \n",
              "8         paige.hall@example.com  1964-08-19T17:02:20.728Z   \n",
              "9    berra.bredewold@example.com  1963-01-09T20:13:13.351Z   \n",
              "\n",
              "                                            Picture  \n",
              "0   https://randomuser.me/api/portraits/women/8.jpg  \n",
              "1    https://randomuser.me/api/portraits/men/71.jpg  \n",
              "2  https://randomuser.me/api/portraits/women/76.jpg  \n",
              "3  https://randomuser.me/api/portraits/women/58.jpg  \n",
              "4  https://randomuser.me/api/portraits/women/14.jpg  \n",
              "5    https://randomuser.me/api/portraits/men/38.jpg  \n",
              "6    https://randomuser.me/api/portraits/men/34.jpg  \n",
              "7    https://randomuser.me/api/portraits/men/94.jpg  \n",
              "8  https://randomuser.me/api/portraits/women/24.jpg  \n",
              "9  https://randomuser.me/api/portraits/women/28.jpg  "
            ],
            "text/html": [
              "\n",
              "  <div id=\"df-e5f1e5e8-d1f0-4ce2-a877-b2a82a25cf52\">\n",
              "    <div class=\"colab-df-container\">\n",
              "      <div>\n",
              "<style scoped>\n",
              "    .dataframe tbody tr th:only-of-type {\n",
              "        vertical-align: middle;\n",
              "    }\n",
              "\n",
              "    .dataframe tbody tr th {\n",
              "        vertical-align: top;\n",
              "    }\n",
              "\n",
              "    .dataframe thead th {\n",
              "        text-align: right;\n",
              "    }\n",
              "</style>\n",
              "<table border=\"1\" class=\"dataframe\">\n",
              "  <thead>\n",
              "    <tr style=\"text-align: right;\">\n",
              "      <th></th>\n",
              "      <th>Name</th>\n",
              "      <th>Gender</th>\n",
              "      <th>City</th>\n",
              "      <th>State</th>\n",
              "      <th>Email</th>\n",
              "      <th>DOB</th>\n",
              "      <th>Picture</th>\n",
              "    </tr>\n",
              "  </thead>\n",
              "  <tbody>\n",
              "    <tr>\n",
              "      <th>0</th>\n",
              "      <td>Tatiana Guillot</td>\n",
              "      <td>female</td>\n",
              "      <td>Zeihen</td>\n",
              "      <td>Graubünden</td>\n",
              "      <td>tatiana.guillot@example.com</td>\n",
              "      <td>1958-12-09T10:27:13.732Z</td>\n",
              "      <td>https://randomuser.me/api/portraits/women/8.jpg</td>\n",
              "    </tr>\n",
              "    <tr>\n",
              "      <th>1</th>\n",
              "      <td>Alan Gonzalez</td>\n",
              "      <td>male</td>\n",
              "      <td>Boussens</td>\n",
              "      <td>Appenzell Ausserrhoden</td>\n",
              "      <td>alan.gonzalez@example.com</td>\n",
              "      <td>1958-07-14T15:17:07.272Z</td>\n",
              "      <td>https://randomuser.me/api/portraits/men/71.jpg</td>\n",
              "    </tr>\n",
              "    <tr>\n",
              "      <th>2</th>\n",
              "      <td>Agathe Riviere</td>\n",
              "      <td>female</td>\n",
              "      <td>Fort-de-France</td>\n",
              "      <td>Drôme</td>\n",
              "      <td>agathe.riviere@example.com</td>\n",
              "      <td>1969-11-14T05:10:26.733Z</td>\n",
              "      <td>https://randomuser.me/api/portraits/women/76.jpg</td>\n",
              "    </tr>\n",
              "    <tr>\n",
              "      <th>3</th>\n",
              "      <td>Harper Hayes</td>\n",
              "      <td>female</td>\n",
              "      <td>Geelong</td>\n",
              "      <td>New South Wales</td>\n",
              "      <td>harper.hayes@example.com</td>\n",
              "      <td>1945-11-01T15:15:37.927Z</td>\n",
              "      <td>https://randomuser.me/api/portraits/women/58.jpg</td>\n",
              "    </tr>\n",
              "    <tr>\n",
              "      <th>4</th>\n",
              "      <td>Brianna Steward</td>\n",
              "      <td>female</td>\n",
              "      <td>Independence</td>\n",
              "      <td>South Carolina</td>\n",
              "      <td>brianna.steward@example.com</td>\n",
              "      <td>1950-12-22T21:29:14.380Z</td>\n",
              "      <td>https://randomuser.me/api/portraits/women/14.jpg</td>\n",
              "    </tr>\n",
              "    <tr>\n",
              "      <th>5</th>\n",
              "      <td>اميرعلي پارسا</td>\n",
              "      <td>male</td>\n",
              "      <td>مشهد</td>\n",
              "      <td>گلستان</td>\n",
              "      <td>myraaly.prs@example.com</td>\n",
              "      <td>1996-09-14T09:02:20.552Z</td>\n",
              "      <td>https://randomuser.me/api/portraits/men/38.jpg</td>\n",
              "    </tr>\n",
              "    <tr>\n",
              "      <th>6</th>\n",
              "      <td>Sebastian Thomsen</td>\n",
              "      <td>male</td>\n",
              "      <td>Snertinge</td>\n",
              "      <td>Midtjylland</td>\n",
              "      <td>sebastian.thomsen@example.com</td>\n",
              "      <td>1982-05-23T01:50:24.821Z</td>\n",
              "      <td>https://randomuser.me/api/portraits/men/34.jpg</td>\n",
              "    </tr>\n",
              "    <tr>\n",
              "      <th>7</th>\n",
              "      <td>Jose Steeves</td>\n",
              "      <td>male</td>\n",
              "      <td>Scurry</td>\n",
              "      <td>Minnesota</td>\n",
              "      <td>jose.steeves@example.com</td>\n",
              "      <td>1950-11-28T07:40:19.241Z</td>\n",
              "      <td>https://randomuser.me/api/portraits/men/94.jpg</td>\n",
              "    </tr>\n",
              "    <tr>\n",
              "      <th>8</th>\n",
              "      <td>Paige Hall</td>\n",
              "      <td>female</td>\n",
              "      <td>Whanganui</td>\n",
              "      <td>Taranaki</td>\n",
              "      <td>paige.hall@example.com</td>\n",
              "      <td>1964-08-19T17:02:20.728Z</td>\n",
              "      <td>https://randomuser.me/api/portraits/women/24.jpg</td>\n",
              "    </tr>\n",
              "    <tr>\n",
              "      <th>9</th>\n",
              "      <td>Berra Bredewold</td>\n",
              "      <td>female</td>\n",
              "      <td>Barendrecht</td>\n",
              "      <td>Limburg</td>\n",
              "      <td>berra.bredewold@example.com</td>\n",
              "      <td>1963-01-09T20:13:13.351Z</td>\n",
              "      <td>https://randomuser.me/api/portraits/women/28.jpg</td>\n",
              "    </tr>\n",
              "  </tbody>\n",
              "</table>\n",
              "</div>\n",
              "      <button class=\"colab-df-convert\" onclick=\"convertToInteractive('df-e5f1e5e8-d1f0-4ce2-a877-b2a82a25cf52')\"\n",
              "              title=\"Convert this dataframe to an interactive table.\"\n",
              "              style=\"display:none;\">\n",
              "        \n",
              "  <svg xmlns=\"http://www.w3.org/2000/svg\" height=\"24px\"viewBox=\"0 0 24 24\"\n",
              "       width=\"24px\">\n",
              "    <path d=\"M0 0h24v24H0V0z\" fill=\"none\"/>\n",
              "    <path d=\"M18.56 5.44l.94 2.06.94-2.06 2.06-.94-2.06-.94-.94-2.06-.94 2.06-2.06.94zm-11 1L8.5 8.5l.94-2.06 2.06-.94-2.06-.94L8.5 2.5l-.94 2.06-2.06.94zm10 10l.94 2.06.94-2.06 2.06-.94-2.06-.94-.94-2.06-.94 2.06-2.06.94z\"/><path d=\"M17.41 7.96l-1.37-1.37c-.4-.4-.92-.59-1.43-.59-.52 0-1.04.2-1.43.59L10.3 9.45l-7.72 7.72c-.78.78-.78 2.05 0 2.83L4 21.41c.39.39.9.59 1.41.59.51 0 1.02-.2 1.41-.59l7.78-7.78 2.81-2.81c.8-.78.8-2.07 0-2.86zM5.41 20L4 18.59l7.72-7.72 1.47 1.35L5.41 20z\"/>\n",
              "  </svg>\n",
              "      </button>\n",
              "      \n",
              "  <style>\n",
              "    .colab-df-container {\n",
              "      display:flex;\n",
              "      flex-wrap:wrap;\n",
              "      gap: 12px;\n",
              "    }\n",
              "\n",
              "    .colab-df-convert {\n",
              "      background-color: #E8F0FE;\n",
              "      border: none;\n",
              "      border-radius: 50%;\n",
              "      cursor: pointer;\n",
              "      display: none;\n",
              "      fill: #1967D2;\n",
              "      height: 32px;\n",
              "      padding: 0 0 0 0;\n",
              "      width: 32px;\n",
              "    }\n",
              "\n",
              "    .colab-df-convert:hover {\n",
              "      background-color: #E2EBFA;\n",
              "      box-shadow: 0px 1px 2px rgba(60, 64, 67, 0.3), 0px 1px 3px 1px rgba(60, 64, 67, 0.15);\n",
              "      fill: #174EA6;\n",
              "    }\n",
              "\n",
              "    [theme=dark] .colab-df-convert {\n",
              "      background-color: #3B4455;\n",
              "      fill: #D2E3FC;\n",
              "    }\n",
              "\n",
              "    [theme=dark] .colab-df-convert:hover {\n",
              "      background-color: #434B5C;\n",
              "      box-shadow: 0px 1px 3px 1px rgba(0, 0, 0, 0.15);\n",
              "      filter: drop-shadow(0px 1px 2px rgba(0, 0, 0, 0.3));\n",
              "      fill: #FFFFFF;\n",
              "    }\n",
              "  </style>\n",
              "\n",
              "      <script>\n",
              "        const buttonEl =\n",
              "          document.querySelector('#df-e5f1e5e8-d1f0-4ce2-a877-b2a82a25cf52 button.colab-df-convert');\n",
              "        buttonEl.style.display =\n",
              "          google.colab.kernel.accessAllowed ? 'block' : 'none';\n",
              "\n",
              "        async function convertToInteractive(key) {\n",
              "          const element = document.querySelector('#df-e5f1e5e8-d1f0-4ce2-a877-b2a82a25cf52');\n",
              "          const dataTable =\n",
              "            await google.colab.kernel.invokeFunction('convertToInteractive',\n",
              "                                                     [key], {});\n",
              "          if (!dataTable) return;\n",
              "\n",
              "          const docLinkHtml = 'Like what you see? Visit the ' +\n",
              "            '<a target=\"_blank\" href=https://colab.research.google.com/notebooks/data_table.ipynb>data table notebook</a>'\n",
              "            + ' to learn more about interactive tables.';\n",
              "          element.innerHTML = '';\n",
              "          dataTable['output_type'] = 'display_data';\n",
              "          await google.colab.output.renderOutput(dataTable, element);\n",
              "          const docLink = document.createElement('div');\n",
              "          docLink.innerHTML = docLinkHtml;\n",
              "          element.appendChild(docLink);\n",
              "        }\n",
              "      </script>\n",
              "    </div>\n",
              "  </div>\n",
              "  "
            ]
          },
          "metadata": {},
          "execution_count": 32
        }
      ]
    },
    {
      "cell_type": "code",
      "source": [
        "#We have a pandas dataframe that can be used for any testing purposes that the tester might have\n",
        "\n",
        "df1 = pd.DataFrame(get_users())"
      ],
      "metadata": {
        "id": "bpxaHq7N20MT"
      },
      "execution_count": 33,
      "outputs": []
    },
    {
      "cell_type": "code",
      "source": [],
      "metadata": {
        "id": "6p8mIJMD4XM8"
      },
      "execution_count": null,
      "outputs": []
    }
  ]
}